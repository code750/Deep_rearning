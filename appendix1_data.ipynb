{
  "nbformat": 4,
  "nbformat_minor": 0,
  "metadata": {
    "colab": {
      "name": "appendix1-data.ipynb",
      "provenance": [],
      "collapsed_sections": [],
      "authorship_tag": "ABX9TyOe0f0dJqy+6GxqSibFMRAU",
      "include_colab_link": true
    },
    "kernelspec": {
      "name": "python3",
      "display_name": "Python 3"
    },
    "language_info": {
      "name": "python"
    }
  },
  "cells": [
    {
      "cell_type": "markdown",
      "metadata": {
        "id": "view-in-github",
        "colab_type": "text"
      },
      "source": [
        "<a href=\"https://colab.research.google.com/github/code750/Deep_rearning/blob/main/appendix1_data.ipynb\" target=\"_parent\"><img src=\"https://colab.research.google.com/assets/colab-badge.svg\" alt=\"Open In Colab\"/></a>"
      ]
    },
    {
      "cell_type": "code",
      "metadata": {
        "id": "9C4Zyi9B_1mY"
      },
      "source": [
        ""
      ],
      "execution_count": null,
      "outputs": []
    },
    {
      "cell_type": "markdown",
      "metadata": {
        "id": "MUmHv0vH_6yz"
      },
      "source": [
        "# 데이터 타입 조정\n",
        "https://raw.githubusercontent.com/blackdew/tensorflow1/master/csv/iris2.csv\n",
        "\n",
        "\n",
        "데이터['칼럼명'].astype('category')\n",
        "\n",
        "*   변수(칼럼) 타입 확인: 데이터.dtypes\n",
        "*   변수를 범주형으로 변경:\n",
        "    *   데이터['칼럼명'].astype('category')\n",
        "*   변수를 수치형으로 변경:\n",
        "    *   데이터['칼럼명'].astype('int')\n",
        "    *   데이터['칼럼명'].astype('float')\n",
        "\n",
        "*   NA 값의 처리\n",
        "    *   NA 갯수 체크: 데이터.isna().sum()\n",
        "    *    NA 값 채우기: 데이터['칼럼명'].fillna(특정숫자)"
      ]
    },
    {
      "cell_type": "code",
      "metadata": {
        "id": "pba-jjsVAzjH"
      },
      "source": [
        "# 라이브러리 사용\n",
        "import pandas as pd"
      ],
      "execution_count": null,
      "outputs": []
    },
    {
      "cell_type": "code",
      "metadata": {
        "id": "JL6KKdKiA46C"
      },
      "source": [
        "# 파일 읽어오기\n",
        "파일경로 = 'https://raw.githubusercontent.com/blackdew/tensorflow1/master/csv/iris2.csv'\n",
        "아이리스 = pd.read_csv(파일경로)\n",
        "아이리스.head()"
      ],
      "execution_count": null,
      "outputs": []
    },
    {
      "cell_type": "code",
      "metadata": {
        "id": "CAS0BxivA48K"
      },
      "source": [
        "# 원핫인코딩 되지 않는 현상 확인\n",
        "인코딩 = pd.get_dummies(아이리스)\n",
        "인코딩.head()"
      ],
      "execution_count": null,
      "outputs": []
    },
    {
      "cell_type": "code",
      "metadata": {
        "id": "Mpe1x7etA49z"
      },
      "source": [
        "# 칼럼의 데이터 타입 체크\n",
        "print(아이리스.dtypes)"
      ],
      "execution_count": null,
      "outputs": []
    },
    {
      "cell_type": "code",
      "metadata": {
        "id": "Q11nBAA_A4_i"
      },
      "source": [
        "# 품종 타입을 범주형으로 바꾸어 준다. \n",
        "아이리스['품종'] = 아이리스['품종'].astype('category')\n",
        "print(아이리스.dtypes)"
      ],
      "execution_count": null,
      "outputs": []
    },
    {
      "cell_type": "code",
      "metadata": {
        "id": "iB7rqJn2A5Ip"
      },
      "source": [
        "# 카테고리 타입의 변수만 원핫인코딩\n",
        "인코딩 = pd.get_dummies(아이리스)\n",
        "인코딩.head()"
      ],
      "execution_count": null,
      "outputs": []
    },
    {
      "cell_type": "code",
      "metadata": {
        "id": "9AMI4cpEA5Vp"
      },
      "source": [
        "# NA값을 체크해 봅시다. \n",
        "아이리스.isna().sum()"
      ],
      "execution_count": null,
      "outputs": []
    },
    {
      "cell_type": "code",
      "metadata": {
        "id": "g-RD6a1eBGMI"
      },
      "source": [
        "아이리스.tail()"
      ],
      "execution_count": null,
      "outputs": []
    },
    {
      "cell_type": "code",
      "metadata": {
        "id": "4rlSO23JBGOl"
      },
      "source": [
        "# NA값에 꽃잎폭 평균값을 넣어주는 방법\n",
        "mean = 아이리스['꽃잎폭'].mean()\n",
        "print(mean)\n",
        "아이리스['꽃잎폭'] = 아이리스['꽃잎폭'].fillna(mean)\n",
        "아이리스.tail()"
      ],
      "execution_count": null,
      "outputs": []
    }
  ]
}